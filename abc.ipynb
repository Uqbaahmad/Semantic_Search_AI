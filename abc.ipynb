{
 "cells": [
  {
   "cell_type": "code",
   "execution_count": 11,
   "metadata": {},
   "outputs": [],
   "source": [
    "import pinecone\n",
    "from haystack.document_stores import PineconeDocumentStore\n",
    "# import dense\n",
    "from haystack.nodes import DensePassageRetriever\n",
    "from haystack.utils import print_answers\n"
   ]
  },
  {
   "cell_type": "code",
   "execution_count": 6,
   "metadata": {},
   "outputs": [
    {
     "ename": "ModuleNotFoundError",
     "evalue": "No module named 'haystack.document_store'",
     "output_type": "error",
     "traceback": [
      "\u001b[1;31m---------------------------------------------------------------------------\u001b[0m",
      "\u001b[1;31mModuleNotFoundError\u001b[0m                       Traceback (most recent call last)",
      "\u001b[1;32mc:\\Users\\uqba2\\OneDrive\\Documents\\Semantic_Search_AI\\abc.ipynb Cell 2\u001b[0m in \u001b[0;36m1\n\u001b[1;32m----> <a href='vscode-notebook-cell:/c%3A/Users/uqba2/OneDrive/Documents/Semantic_Search_AI/abc.ipynb#W4sZmlsZQ%3D%3D?line=0'>1</a>\u001b[0m \u001b[39mfrom\u001b[39;00m \u001b[39mhaystack\u001b[39;00m\u001b[39m.\u001b[39;00m\u001b[39mdocument_store\u001b[39;00m\u001b[39m.\u001b[39;00m\u001b[39mfaiss\u001b[39;00m \u001b[39mimport\u001b[39;00m FAISSDocumentStore\n\u001b[0;32m      <a href='vscode-notebook-cell:/c%3A/Users/uqba2/OneDrive/Documents/Semantic_Search_AI/abc.ipynb#W4sZmlsZQ%3D%3D?line=1'>2</a>\u001b[0m \u001b[39mfrom\u001b[39;00m \u001b[39mhaystack\u001b[39;00m\u001b[39m.\u001b[39;00m\u001b[39mretriever\u001b[39;00m\u001b[39m.\u001b[39;00m\u001b[39mdense\u001b[39;00m \u001b[39mimport\u001b[39;00m DensePassageRetriever\n\u001b[0;32m      <a href='vscode-notebook-cell:/c%3A/Users/uqba2/OneDrive/Documents/Semantic_Search_AI/abc.ipynb#W4sZmlsZQ%3D%3D?line=2'>3</a>\u001b[0m \u001b[39mfrom\u001b[39;00m \u001b[39mhaystack\u001b[39;00m\u001b[39m.\u001b[39;00m\u001b[39mpipeline\u001b[39;00m \u001b[39mimport\u001b[39;00m DocumentSearchPipeline\n",
      "\u001b[1;31mModuleNotFoundError\u001b[0m: No module named 'haystack.document_store'"
     ]
    }
   ],
   "source": [
    "# from haystack.document_store.faiss import FAISSDocumentStore\n",
    "# from haystack.retriever.dense import DensePassageRetriever\n",
    "# from haystack.pipeline import DocumentSearchPipeline\n"
   ]
  },
  {
   "cell_type": "code",
   "execution_count": 12,
   "metadata": {},
   "outputs": [],
   "source": [
    "from haystack.pipelines import DocumentSearchPipeline\n",
    "from haystack.utils import print_documents"
   ]
  },
  {
   "cell_type": "code",
   "execution_count": 16,
   "metadata": {},
   "outputs": [],
   "source": [
    "# document_store = PineconeDocumentStore(index=\"semantic-search\", replace_index=True)\n",
    "index_name = 'semantic-search-ai'\n",
    "document_store = pinecone.init(\n",
    "    api_key=\"a88f41cf-3264-48d8-8a04-953f06214d55\",\n",
    "    environment = \"us-central1-gcp\"\n",
    ")"
   ]
  },
  {
   "cell_type": "code",
   "execution_count": 17,
   "metadata": {},
   "outputs": [
    {
     "data": {
      "application/vnd.jupyter.widget-view+json": {
       "model_id": "2057fce790484664b3bc7c1f37af624f",
       "version_major": 2,
       "version_minor": 0
      },
      "text/plain": [
       "Downloading (…)okenizer_config.json:   0%|          | 0.00/28.0 [00:04<?, ?B/s]"
      ]
     },
     "metadata": {},
     "output_type": "display_data"
    },
    {
     "name": "stderr",
     "output_type": "stream",
     "text": [
      "c:\\Users\\uqba2\\miniconda3\\envs\\ml\\lib\\site-packages\\huggingface_hub\\file_download.py:133: UserWarning: `huggingface_hub` cache-system uses symlinks by default to efficiently store duplicated files but your machine does not support them in C:\\Users\\uqba2\\.cache\\huggingface\\hub. Caching files will still work but in a degraded version that might require more space on your disk. This warning can be disabled by setting the `HF_HUB_DISABLE_SYMLINKS_WARNING` environment variable. For more details, see https://huggingface.co/docs/huggingface_hub/how-to-cache#limitations.\n",
      "To support symlinks on Windows, you either need to activate Developer Mode or to run Python as an administrator. In order to see activate developer mode, see this article: https://docs.microsoft.com/en-us/windows/apps/get-started/enable-your-device-for-development\n",
      "  warnings.warn(message)\n"
     ]
    },
    {
     "data": {
      "application/vnd.jupyter.widget-view+json": {
       "model_id": "0f7ba006a7f24ae5895f27a0465188a6",
       "version_major": 2,
       "version_minor": 0
      },
      "text/plain": [
       "Downloading (…)solve/main/vocab.txt:   0%|          | 0.00/232k [00:00<?, ?B/s]"
      ]
     },
     "metadata": {},
     "output_type": "display_data"
    },
    {
     "data": {
      "application/vnd.jupyter.widget-view+json": {
       "model_id": "adbcae5a85f34f98b346ed4e2f98329f",
       "version_major": 2,
       "version_minor": 0
      },
      "text/plain": [
       "Downloading (…)/main/tokenizer.json:   0%|          | 0.00/466k [00:00<?, ?B/s]"
      ]
     },
     "metadata": {},
     "output_type": "display_data"
    },
    {
     "data": {
      "application/vnd.jupyter.widget-view+json": {
       "model_id": "ae14aa1966b4470db6360be12ea6519b",
       "version_major": 2,
       "version_minor": 0
      },
      "text/plain": [
       "Downloading (…)lve/main/config.json:   0%|          | 0.00/493 [00:00<?, ?B/s]"
      ]
     },
     "metadata": {},
     "output_type": "display_data"
    },
    {
     "data": {
      "application/vnd.jupyter.widget-view+json": {
       "model_id": "756b08bbd5ff49e989d06b4e25333df0",
       "version_major": 2,
       "version_minor": 0
      },
      "text/plain": [
       "Downloading pytorch_model.bin:   0%|          | 0.00/438M [00:00<?, ?B/s]"
      ]
     },
     "metadata": {},
     "output_type": "display_data"
    },
    {
     "name": "stderr",
     "output_type": "stream",
     "text": [
      "c:\\Users\\uqba2\\miniconda3\\envs\\ml\\lib\\site-packages\\torch\\_utils.py:776: UserWarning: TypedStorage is deprecated. It will be removed in the future and UntypedStorage will be the only storage class. This should only matter to you if you are using storages directly.  To access UntypedStorage directly, use tensor.untyped_storage() instead of tensor.storage()\n",
      "  return self.fget.__get__(instance, owner)()\n"
     ]
    },
    {
     "data": {
      "application/vnd.jupyter.widget-view+json": {
       "model_id": "eb5f291c22714e5788b16d78ef825e72",
       "version_major": 2,
       "version_minor": 0
      },
      "text/plain": [
       "Downloading (…)okenizer_config.json:   0%|          | 0.00/28.0 [00:00<?, ?B/s]"
      ]
     },
     "metadata": {},
     "output_type": "display_data"
    },
    {
     "data": {
      "application/vnd.jupyter.widget-view+json": {
       "model_id": "8de6b05f5de445b482ddf4b941a5b20b",
       "version_major": 2,
       "version_minor": 0
      },
      "text/plain": [
       "Downloading (…)solve/main/vocab.txt:   0%|          | 0.00/232k [00:00<?, ?B/s]"
      ]
     },
     "metadata": {},
     "output_type": "display_data"
    },
    {
     "data": {
      "application/vnd.jupyter.widget-view+json": {
       "model_id": "2233a240aaab45fb9703103d270c764f",
       "version_major": 2,
       "version_minor": 0
      },
      "text/plain": [
       "Downloading (…)/main/tokenizer.json:   0%|          | 0.00/466k [00:00<?, ?B/s]"
      ]
     },
     "metadata": {},
     "output_type": "display_data"
    },
    {
     "data": {
      "application/vnd.jupyter.widget-view+json": {
       "model_id": "6bec31b3524e4ae884e9570c7c9979ee",
       "version_major": 2,
       "version_minor": 0
      },
      "text/plain": [
       "Downloading (…)lve/main/config.json:   0%|          | 0.00/492 [00:00<?, ?B/s]"
      ]
     },
     "metadata": {},
     "output_type": "display_data"
    },
    {
     "name": "stderr",
     "output_type": "stream",
     "text": [
      "The tokenizer class you load from this checkpoint is not the same type as the class this function is called from. It may result in unexpected tokenization. \n",
      "The tokenizer class you load from this checkpoint is 'DPRQuestionEncoderTokenizer'. \n",
      "The class this function is called from is 'DPRContextEncoderTokenizerFast'.\n"
     ]
    },
    {
     "data": {
      "application/vnd.jupyter.widget-view+json": {
       "model_id": "db2462fc22704709aebbf0d9a289dbc1",
       "version_major": 2,
       "version_minor": 0
      },
      "text/plain": [
       "Downloading pytorch_model.bin:   0%|          | 0.00/438M [00:00<?, ?B/s]"
      ]
     },
     "metadata": {},
     "output_type": "display_data"
    }
   ],
   "source": [
    "retriever = DensePassageRetriever(document_store=document_store,\n",
    "                                 query_embedding_model=\"facebook/dpr-question_encoder-single-nq-base\",\n",
    "                                 passage_embedding_model=\"facebook/dpr-ctx_encoder-single-nq-base\",\n",
    "                                 use_gpu=False)\n"
   ]
  },
  {
   "cell_type": "code",
   "execution_count": 18,
   "metadata": {},
   "outputs": [],
   "source": [
    "pipe = DocumentSearchPipeline(retriever=retriever)"
   ]
  },
  {
   "cell_type": "code",
   "execution_count": 19,
   "metadata": {},
   "outputs": [
    {
     "ename": "Exception",
     "evalue": "Exception while running node 'Retriever': This Retriever was not initialized with a Document Store. Provide one to the retrieve() method.\nEnable debug logging to see the data that was passed when the pipeline failed.",
     "output_type": "error",
     "traceback": [
      "\u001b[1;31m---------------------------------------------------------------------------\u001b[0m",
      "\u001b[1;31mValueError\u001b[0m                                Traceback (most recent call last)",
      "File \u001b[1;32mc:\\Users\\uqba2\\miniconda3\\envs\\ml\\lib\\site-packages\\haystack\\pipelines\\base.py:552\u001b[0m, in \u001b[0;36mPipeline.run\u001b[1;34m(self, query, file_paths, labels, documents, meta, params, debug)\u001b[0m\n\u001b[0;32m    551\u001b[0m start \u001b[39m=\u001b[39m time()\n\u001b[1;32m--> 552\u001b[0m node_output, stream_id \u001b[39m=\u001b[39m \u001b[39mself\u001b[39;49m\u001b[39m.\u001b[39;49m_run_node(node_id, node_input)\n\u001b[0;32m    553\u001b[0m \u001b[39mif\u001b[39;00m \u001b[39m\"\u001b[39m\u001b[39m_debug\u001b[39m\u001b[39m\"\u001b[39m \u001b[39min\u001b[39;00m node_output \u001b[39mand\u001b[39;00m node_id \u001b[39min\u001b[39;00m node_output[\u001b[39m\"\u001b[39m\u001b[39m_debug\u001b[39m\u001b[39m\"\u001b[39m]:\n",
      "File \u001b[1;32mc:\\Users\\uqba2\\miniconda3\\envs\\ml\\lib\\site-packages\\haystack\\pipelines\\base.py:467\u001b[0m, in \u001b[0;36mPipeline._run_node\u001b[1;34m(self, node_id, node_input)\u001b[0m\n\u001b[0;32m    466\u001b[0m \u001b[39mdef\u001b[39;00m \u001b[39m_run_node\u001b[39m(\u001b[39mself\u001b[39m, node_id: \u001b[39mstr\u001b[39m, node_input: Dict[\u001b[39mstr\u001b[39m, Any]) \u001b[39m-\u001b[39m\u001b[39m>\u001b[39m Tuple[Dict, \u001b[39mstr\u001b[39m]:\n\u001b[1;32m--> 467\u001b[0m     \u001b[39mreturn\u001b[39;00m \u001b[39mself\u001b[39m\u001b[39m.\u001b[39mgraph\u001b[39m.\u001b[39mnodes[node_id][\u001b[39m\"\u001b[39m\u001b[39mcomponent\u001b[39m\u001b[39m\"\u001b[39m]\u001b[39m.\u001b[39m_dispatch_run(\u001b[39m*\u001b[39m\u001b[39m*\u001b[39mnode_input)\n",
      "File \u001b[1;32mc:\\Users\\uqba2\\miniconda3\\envs\\ml\\lib\\site-packages\\haystack\\nodes\\base.py:201\u001b[0m, in \u001b[0;36mBaseComponent._dispatch_run\u001b[1;34m(self, **kwargs)\u001b[0m\n\u001b[0;32m    197\u001b[0m \u001b[39m\"\"\"\u001b[39;00m\n\u001b[0;32m    198\u001b[0m \u001b[39mThe Pipelines call this method when run() is executed. This method in turn executes the _dispatch_run_general()\u001b[39;00m\n\u001b[0;32m    199\u001b[0m \u001b[39mmethod with the correct run method.\u001b[39;00m\n\u001b[0;32m    200\u001b[0m \u001b[39m\"\"\"\u001b[39;00m\n\u001b[1;32m--> 201\u001b[0m \u001b[39mreturn\u001b[39;00m \u001b[39mself\u001b[39m\u001b[39m.\u001b[39m_dispatch_run_general(\u001b[39mself\u001b[39m\u001b[39m.\u001b[39mrun, \u001b[39m*\u001b[39m\u001b[39m*\u001b[39mkwargs)\n",
      "File \u001b[1;32mc:\\Users\\uqba2\\miniconda3\\envs\\ml\\lib\\site-packages\\haystack\\nodes\\base.py:245\u001b[0m, in \u001b[0;36mBaseComponent._dispatch_run_general\u001b[1;34m(self, run_method, **kwargs)\u001b[0m\n\u001b[0;32m    243\u001b[0m         run_inputs[key] \u001b[39m=\u001b[39m value\n\u001b[1;32m--> 245\u001b[0m output, stream \u001b[39m=\u001b[39m run_method(\u001b[39m*\u001b[39m\u001b[39m*\u001b[39mrun_inputs, \u001b[39m*\u001b[39m\u001b[39m*\u001b[39mrun_params)\n\u001b[0;32m    247\u001b[0m \u001b[39m# Collect debug information\u001b[39;00m\n",
      "File \u001b[1;32mc:\\Users\\uqba2\\miniconda3\\envs\\ml\\lib\\site-packages\\haystack\\nodes\\retriever\\base.py:293\u001b[0m, in \u001b[0;36mBaseRetriever.run\u001b[1;34m(self, root_node, query, filters, top_k, documents, index, headers, scale_score)\u001b[0m\n\u001b[0;32m    292\u001b[0m     run_query_timed \u001b[39m=\u001b[39m \u001b[39mself\u001b[39m\u001b[39m.\u001b[39mtiming(\u001b[39mself\u001b[39m\u001b[39m.\u001b[39mrun_query, \u001b[39m\"\u001b[39m\u001b[39mquery_time\u001b[39m\u001b[39m\"\u001b[39m)\n\u001b[1;32m--> 293\u001b[0m     output, stream \u001b[39m=\u001b[39m run_query_timed(\n\u001b[0;32m    294\u001b[0m         query\u001b[39m=\u001b[39;49mquery, filters\u001b[39m=\u001b[39;49mfilters, top_k\u001b[39m=\u001b[39;49mtop_k, index\u001b[39m=\u001b[39;49mindex, headers\u001b[39m=\u001b[39;49mheaders, scale_score\u001b[39m=\u001b[39;49mscale_score\n\u001b[0;32m    295\u001b[0m     )\n\u001b[0;32m    296\u001b[0m \u001b[39melif\u001b[39;00m root_node \u001b[39m==\u001b[39m \u001b[39m\"\u001b[39m\u001b[39mFile\u001b[39m\u001b[39m\"\u001b[39m:\n",
      "File \u001b[1;32mc:\\Users\\uqba2\\miniconda3\\envs\\ml\\lib\\site-packages\\haystack\\nodes\\retriever\\base.py:112\u001b[0m, in \u001b[0;36mBaseRetriever.timing.<locals>.wrapper\u001b[1;34m(*args, **kwargs)\u001b[0m\n\u001b[0;32m    111\u001b[0m tic \u001b[39m=\u001b[39m perf_counter()\n\u001b[1;32m--> 112\u001b[0m ret \u001b[39m=\u001b[39m fn(\u001b[39m*\u001b[39margs, \u001b[39m*\u001b[39m\u001b[39m*\u001b[39mkwargs)\n\u001b[0;32m    113\u001b[0m toc \u001b[39m=\u001b[39m perf_counter()\n",
      "File \u001b[1;32mc:\\Users\\uqba2\\miniconda3\\envs\\ml\\lib\\site-packages\\haystack\\nodes\\retriever\\base.py:347\u001b[0m, in \u001b[0;36mBaseRetriever.run_query\u001b[1;34m(self, query, filters, top_k, index, headers, scale_score)\u001b[0m\n\u001b[0;32m    338\u001b[0m \u001b[39mdef\u001b[39;00m \u001b[39mrun_query\u001b[39m(\n\u001b[0;32m    339\u001b[0m     \u001b[39mself\u001b[39m,\n\u001b[0;32m    340\u001b[0m     query: \u001b[39mstr\u001b[39m,\n\u001b[1;32m   (...)\u001b[0m\n\u001b[0;32m    345\u001b[0m     scale_score: Optional[\u001b[39mbool\u001b[39m] \u001b[39m=\u001b[39m \u001b[39mNone\u001b[39;00m,\n\u001b[0;32m    346\u001b[0m ):\n\u001b[1;32m--> 347\u001b[0m     documents \u001b[39m=\u001b[39m \u001b[39mself\u001b[39;49m\u001b[39m.\u001b[39;49mretrieve(\n\u001b[0;32m    348\u001b[0m         query\u001b[39m=\u001b[39;49mquery, filters\u001b[39m=\u001b[39;49mfilters, top_k\u001b[39m=\u001b[39;49mtop_k, index\u001b[39m=\u001b[39;49mindex, headers\u001b[39m=\u001b[39;49mheaders, scale_score\u001b[39m=\u001b[39;49mscale_score\n\u001b[0;32m    349\u001b[0m     )\n\u001b[0;32m    350\u001b[0m     document_ids \u001b[39m=\u001b[39m [doc\u001b[39m.\u001b[39mid \u001b[39mfor\u001b[39;00m doc \u001b[39min\u001b[39;00m documents]\n",
      "File \u001b[1;32mc:\\Users\\uqba2\\miniconda3\\envs\\ml\\lib\\site-packages\\haystack\\nodes\\retriever\\dense.py:337\u001b[0m, in \u001b[0;36mDensePassageRetriever.retrieve\u001b[1;34m(self, query, filters, top_k, index, headers, scale_score, document_store)\u001b[0m\n\u001b[0;32m    336\u001b[0m \u001b[39mif\u001b[39;00m document_store \u001b[39mis\u001b[39;00m \u001b[39mNone\u001b[39;00m:\n\u001b[1;32m--> 337\u001b[0m     \u001b[39mraise\u001b[39;00m \u001b[39mValueError\u001b[39;00m(\n\u001b[0;32m    338\u001b[0m         \u001b[39m\"\u001b[39m\u001b[39mThis Retriever was not initialized with a Document Store. Provide one to the retrieve() method.\u001b[39m\u001b[39m\"\u001b[39m\n\u001b[0;32m    339\u001b[0m     )\n\u001b[0;32m    340\u001b[0m \u001b[39mif\u001b[39;00m top_k \u001b[39mis\u001b[39;00m \u001b[39mNone\u001b[39;00m:\n",
      "\u001b[1;31mValueError\u001b[0m: This Retriever was not initialized with a Document Store. Provide one to the retrieve() method.",
      "\nThe above exception was the direct cause of the following exception:\n",
      "\u001b[1;31mException\u001b[0m                                 Traceback (most recent call last)",
      "\u001b[1;32mc:\\Users\\uqba2\\OneDrive\\Documents\\Semantic_Search_AI\\abc.ipynb Cell 7\u001b[0m in \u001b[0;36m2\n\u001b[0;32m      <a href='vscode-notebook-cell:/c%3A/Users/uqba2/OneDrive/Documents/Semantic_Search_AI/abc.ipynb#X10sZmlsZQ%3D%3D?line=0'>1</a>\u001b[0m query \u001b[39m=\u001b[39m \u001b[39m\"\u001b[39m\u001b[39mWhat is the capital of France?\u001b[39m\u001b[39m\"\u001b[39m\n\u001b[1;32m----> <a href='vscode-notebook-cell:/c%3A/Users/uqba2/OneDrive/Documents/Semantic_Search_AI/abc.ipynb#X10sZmlsZQ%3D%3D?line=1'>2</a>\u001b[0m result \u001b[39m=\u001b[39m pipe\u001b[39m.\u001b[39;49mrun(query\u001b[39m=\u001b[39;49mquery)\n\u001b[0;32m      <a href='vscode-notebook-cell:/c%3A/Users/uqba2/OneDrive/Documents/Semantic_Search_AI/abc.ipynb#X10sZmlsZQ%3D%3D?line=2'>3</a>\u001b[0m \u001b[39mfor\u001b[39;00m hit \u001b[39min\u001b[39;00m result[\u001b[39m\"\u001b[39m\u001b[39mdocuments\u001b[39m\u001b[39m\"\u001b[39m]:\n\u001b[0;32m      <a href='vscode-notebook-cell:/c%3A/Users/uqba2/OneDrive/Documents/Semantic_Search_AI/abc.ipynb#X10sZmlsZQ%3D%3D?line=3'>4</a>\u001b[0m     \u001b[39mprint\u001b[39m(\u001b[39mf\u001b[39m\u001b[39m\"\u001b[39m\u001b[39mScore: \u001b[39m\u001b[39m{\u001b[39;00mhit\u001b[39m.\u001b[39mscore\u001b[39m:\u001b[39;00m\u001b[39m.2f\u001b[39m\u001b[39m}\u001b[39;00m\u001b[39m, Text: \u001b[39m\u001b[39m{\u001b[39;00mhit\u001b[39m.\u001b[39mtext\u001b[39m}\u001b[39;00m\u001b[39m\"\u001b[39m)\n",
      "File \u001b[1;32mc:\\Users\\uqba2\\miniconda3\\envs\\ml\\lib\\site-packages\\haystack\\pipelines\\standard_pipelines.py:415\u001b[0m, in \u001b[0;36mDocumentSearchPipeline.run\u001b[1;34m(self, query, params, debug)\u001b[0m\n\u001b[0;32m    405\u001b[0m \u001b[39mdef\u001b[39;00m \u001b[39mrun\u001b[39m(\u001b[39mself\u001b[39m, query: \u001b[39mstr\u001b[39m, params: Optional[\u001b[39mdict\u001b[39m] \u001b[39m=\u001b[39m \u001b[39mNone\u001b[39;00m, debug: Optional[\u001b[39mbool\u001b[39m] \u001b[39m=\u001b[39m \u001b[39mNone\u001b[39;00m):\n\u001b[0;32m    406\u001b[0m     \u001b[39m\"\"\"\u001b[39;00m\n\u001b[0;32m    407\u001b[0m \u001b[39m    :param query: the query string.\u001b[39;00m\n\u001b[0;32m    408\u001b[0m \u001b[39m    :param params: params for the `retriever` and `reader`. For instance, params={\"Retriever\": {\"top_k\": 10}}\u001b[39;00m\n\u001b[1;32m   (...)\u001b[0m\n\u001b[0;32m    413\u001b[0m \u001b[39m          by this method under the key \"_debug\"\u001b[39;00m\n\u001b[0;32m    414\u001b[0m \u001b[39m    \"\"\"\u001b[39;00m\n\u001b[1;32m--> 415\u001b[0m     output \u001b[39m=\u001b[39m \u001b[39mself\u001b[39;49m\u001b[39m.\u001b[39;49mpipeline\u001b[39m.\u001b[39;49mrun(query\u001b[39m=\u001b[39;49mquery, params\u001b[39m=\u001b[39;49mparams, debug\u001b[39m=\u001b[39;49mdebug)\n\u001b[0;32m    416\u001b[0m     \u001b[39mreturn\u001b[39;00m output\n",
      "File \u001b[1;32mc:\\Users\\uqba2\\miniconda3\\envs\\ml\\lib\\site-packages\\haystack\\pipelines\\base.py:559\u001b[0m, in \u001b[0;36mPipeline.run\u001b[1;34m(self, query, file_paths, labels, documents, meta, params, debug)\u001b[0m\n\u001b[0;32m    555\u001b[0m \u001b[39mexcept\u001b[39;00m \u001b[39mException\u001b[39;00m \u001b[39mas\u001b[39;00m e:\n\u001b[0;32m    556\u001b[0m     \u001b[39m# The input might be a really large object with thousands of embeddings.\u001b[39;00m\n\u001b[0;32m    557\u001b[0m     \u001b[39m# If you really want to see it, raise the log level.\u001b[39;00m\n\u001b[0;32m    558\u001b[0m     logger\u001b[39m.\u001b[39mdebug(\u001b[39m\"\u001b[39m\u001b[39mException while running node \u001b[39m\u001b[39m'\u001b[39m\u001b[39m%s\u001b[39;00m\u001b[39m'\u001b[39m\u001b[39m with input \u001b[39m\u001b[39m%s\u001b[39;00m\u001b[39m\"\u001b[39m, node_id, node_input)\n\u001b[1;32m--> 559\u001b[0m     \u001b[39mraise\u001b[39;00m \u001b[39mException\u001b[39;00m(\n\u001b[0;32m    560\u001b[0m         \u001b[39mf\u001b[39m\u001b[39m\"\u001b[39m\u001b[39mException while running node \u001b[39m\u001b[39m'\u001b[39m\u001b[39m{\u001b[39;00mnode_id\u001b[39m}\u001b[39;00m\u001b[39m'\u001b[39m\u001b[39m: \u001b[39m\u001b[39m{\u001b[39;00me\u001b[39m}\u001b[39;00m\u001b[39m\\n\u001b[39;00m\u001b[39mEnable debug logging to see the data that was passed when the pipeline failed.\u001b[39m\u001b[39m\"\u001b[39m\n\u001b[0;32m    561\u001b[0m     ) \u001b[39mfrom\u001b[39;00m \u001b[39me\u001b[39;00m\n\u001b[0;32m    562\u001b[0m queue\u001b[39m.\u001b[39mpop(node_id)\n\u001b[0;32m    563\u001b[0m \u001b[39m#\u001b[39;00m\n",
      "\u001b[1;31mException\u001b[0m: Exception while running node 'Retriever': This Retriever was not initialized with a Document Store. Provide one to the retrieve() method.\nEnable debug logging to see the data that was passed when the pipeline failed."
     ]
    }
   ],
   "source": [
    "query = \"What is the capital of France?\"\n",
    "result = pipe.run(query=query)\n",
    "for hit in result[\"documents\"]:\n",
    "    print(f\"Score: {hit.score:.2f}, Text: {hit.text}\")"
   ]
  },
  {
   "cell_type": "code",
   "execution_count": null,
   "metadata": {},
   "outputs": [],
   "source": []
  }
 ],
 "metadata": {
  "kernelspec": {
   "display_name": "ml",
   "language": "python",
   "name": "python3"
  },
  "language_info": {
   "codemirror_mode": {
    "name": "ipython",
    "version": 3
   },
   "file_extension": ".py",
   "mimetype": "text/x-python",
   "name": "python",
   "nbconvert_exporter": "python",
   "pygments_lexer": "ipython3",
   "version": "3.9.13"
  },
  "orig_nbformat": 4
 },
 "nbformat": 4,
 "nbformat_minor": 2
}
